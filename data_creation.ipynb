{
 "cells": [
  {
   "cell_type": "code",
   "execution_count": 1,
   "metadata": {},
   "outputs": [],
   "source": [
    "import pandas as pd\n",
    "import numpy as np\n",
    "import os"
   ]
  },
  {
   "cell_type": "code",
   "execution_count": 2,
   "metadata": {},
   "outputs": [],
   "source": [
    "import joblib\n",
    "from sklearn.preprocessing import LabelBinarizer"
   ]
  },
  {
   "cell_type": "code",
   "execution_count": 3,
   "metadata": {},
   "outputs": [],
   "source": [
    "from tqdm import tqdm\n",
    "from imutils import paths"
   ]
  },
  {
   "cell_type": "code",
   "execution_count": 4,
   "metadata": {},
   "outputs": [
    {
     "name": "stderr",
     "output_type": "stream",
     "text": [
      "100%|██████████| 12180/12180 [00:05<00:00, 2368.97it/s]\n"
     ]
    },
    {
     "name": "stdout",
     "output_type": "stream",
     "text": [
      "The first one hot encoded labels: [1 0 0 0 0 0 0 0 0 0 0 0 0 0 0 0 0 0 0 0 0 0 0 0 0 0 0 0 0 0 0 0 0 0 0 0 0\n",
      " 0 0 0 0 0 0 0 0 0 0 0 0 0 0 0 0 0 0 0 0 0]\n",
      "Mapping the first one hot encoded label to its category: A\n",
      "Total instances: 12180\n",
      "Saving the binarized labels as pickled file\n",
      "                                          image_path  target\n",
      "0  C:\\Users\\Ivona\\Desktop\\MacedonianSignLanguage\\...    46.0\n",
      "1  C:\\Users\\Ivona\\Desktop\\MacedonianSignLanguage\\...    40.0\n",
      "2  C:\\Users\\Ivona\\Desktop\\MacedonianSignLanguage\\...    22.0\n",
      "3  C:\\Users\\Ivona\\Desktop\\MacedonianSignLanguage\\...     8.0\n",
      "4  C:\\Users\\Ivona\\Desktop\\MacedonianSignLanguage\\...    23.0\n"
     ]
    }
   ],
   "source": [
    "image_paths = list(paths.list_images('C:\\\\Users\\\\Ivona\\\\Desktop\\\\MacedonianSignLanguage\\\\input\\\\preprocessed_image\\\\'))\n",
    "data = pd.DataFrame()\n",
    "labels = []\n",
    "for i, image_path in tqdm(enumerate(image_paths), total=len(image_paths)):\n",
    "    label = image_path.split(os.path.sep)[-2]\n",
    "    data.loc[i, 'image_path'] = image_path\n",
    "    labels.append(label)\n",
    "labels = np.array(labels)\n",
    "lb = LabelBinarizer()\n",
    "labels = lb.fit_transform(labels)\n",
    "print(f\"The first one hot encoded labels: {labels[0]}\")\n",
    "print(f\"Mapping the first one hot encoded label to its category: {lb.classes_[0]}\")\n",
    "print(f\"Total instances: {len(labels)}\")\n",
    "for i in range(len(labels)):\n",
    "    index = np.argmax(labels[i])\n",
    "    data.loc[i, 'target'] = int(index)\n",
    "\n",
    "data = data.sample(frac=1).reset_index(drop=True)\n",
    "data.to_csv('C:\\\\Users\\\\Ivona\\\\Desktop\\\\MacedonianSignLanguage\\\\input\\\\data.csv', index=False)\n",
    "print('Saving the binarized labels as pickled file')\n",
    "joblib.dump(lb, 'C:\\\\Users\\\\Ivona\\\\Desktop\\\\MacedonianSignLanguage\\\\outputs\\\\lb.pkl')\n",
    "print(data.head(5))"
   ]
  },
  {
   "cell_type": "code",
   "execution_count": null,
   "metadata": {},
   "outputs": [],
   "source": []
  }
 ],
 "metadata": {
  "kernelspec": {
   "display_name": "base",
   "language": "python",
   "name": "python3"
  },
  "language_info": {
   "codemirror_mode": {
    "name": "ipython",
    "version": 3
   },
   "file_extension": ".py",
   "mimetype": "text/x-python",
   "name": "python",
   "nbconvert_exporter": "python",
   "pygments_lexer": "ipython3",
   "version": "3.9.7"
  },
  "vscode": {
   "interpreter": {
    "hash": "30a6e74af0fa266845fe6dc278ad8868af254b1f44a40f17b17c9a28151e2db1"
   }
  }
 },
 "nbformat": 4,
 "nbformat_minor": 4
}
